{
 "cells": [
  {
   "cell_type": "code",
   "execution_count": 1,
   "id": "c2bf8c95-8b88-467b-9351-8e27d7b11b40",
   "metadata": {},
   "outputs": [],
   "source": [
    "import numpy as np\n",
    "import pandas as pd\n",
    "import matplotlib.pyplot as plt\n",
    "import math\n",
    "import torch\n",
    "from sklearn.metrics import precision_recall_fscore_support\n",
    "import warnings\n",
    "warnings.filterwarnings('ignore')"
   ]
  },
  {
   "cell_type": "code",
   "execution_count": 2,
   "id": "736d5335-02c4-4cd2-af10-4fc8737e6989",
   "metadata": {},
   "outputs": [],
   "source": [
    "dataframe = pd.read_excel('dataset 19964.xlsx')"
   ]
  },
  {
   "cell_type": "code",
   "execution_count": 3,
   "id": "9f4f81e3-1abc-46ea-8e90-e5b93bccb07e",
   "metadata": {},
   "outputs": [
    {
     "data": {
      "text/html": [
       "<div>\n",
       "<style scoped>\n",
       "    .dataframe tbody tr th:only-of-type {\n",
       "        vertical-align: middle;\n",
       "    }\n",
       "\n",
       "    .dataframe tbody tr th {\n",
       "        vertical-align: top;\n",
       "    }\n",
       "\n",
       "    .dataframe thead th {\n",
       "        text-align: right;\n",
       "    }\n",
       "</style>\n",
       "<table border=\"1\" class=\"dataframe\">\n",
       "  <thead>\n",
       "    <tr style=\"text-align: right;\">\n",
       "      <th></th>\n",
       "      <th>Unnamed: 0</th>\n",
       "      <th>Record ID</th>\n",
       "      <th>Title</th>\n",
       "      <th>Subject</th>\n",
       "      <th>Institution</th>\n",
       "      <th>Journal</th>\n",
       "      <th>Publisher</th>\n",
       "      <th>Country</th>\n",
       "      <th>Author</th>\n",
       "      <th>URLS</th>\n",
       "      <th>...</th>\n",
       "      <th>RetractionPubMedID</th>\n",
       "      <th>OriginalPaperDate</th>\n",
       "      <th>OriginalPaperDOI</th>\n",
       "      <th>OriginalPaperPubMedID</th>\n",
       "      <th>RetractionNature</th>\n",
       "      <th>Reason</th>\n",
       "      <th>Paywalled</th>\n",
       "      <th>Notes</th>\n",
       "      <th>Error</th>\n",
       "      <th>Abstract</th>\n",
       "    </tr>\n",
       "  </thead>\n",
       "  <tbody>\n",
       "    <tr>\n",
       "      <th>0</th>\n",
       "      <td>0</td>\n",
       "      <td>41915</td>\n",
       "      <td>A novel fully automated MRI-based deep-learnin...</td>\n",
       "      <td>(B/T) Computer Science;(BLS) Biology - Cancer;...</td>\n",
       "      <td>Department of Radiology, Mayo Clinic, Rocheste...</td>\n",
       "      <td>Neuro-Oncology</td>\n",
       "      <td>Oxford Academic</td>\n",
       "      <td>United States</td>\n",
       "      <td>Timothy J Kaufmann;Bradley J Erickson</td>\n",
       "      <td>NaN</td>\n",
       "      <td>...</td>\n",
       "      <td>36623552</td>\n",
       "      <td>2020-01-06</td>\n",
       "      <td>10.1093/neuonc/noaa002</td>\n",
       "      <td>31905237.0</td>\n",
       "      <td>Retraction</td>\n",
       "      <td>+Cites Retracted Work;</td>\n",
       "      <td>No</td>\n",
       "      <td>NaN</td>\n",
       "      <td>0</td>\n",
       "      <td>No abstract available</td>\n",
       "    </tr>\n",
       "    <tr>\n",
       "      <th>1</th>\n",
       "      <td>1</td>\n",
       "      <td>41914</td>\n",
       "      <td>A novel fully automated MRI-based deep-learnin...</td>\n",
       "      <td>(B/T) Computer Science;(BLS) Biology - Cancer;...</td>\n",
       "      <td>Department of Radiology, University of Texas S...</td>\n",
       "      <td>Neuro-Oncology</td>\n",
       "      <td>Oxford Academic</td>\n",
       "      <td>United States</td>\n",
       "      <td>Chandan Ganesh Bangalore Yogananda;Bhavya R Sh...</td>\n",
       "      <td>NaN</td>\n",
       "      <td>...</td>\n",
       "      <td>36623552</td>\n",
       "      <td>2019-10-22</td>\n",
       "      <td>10.1093/neuonc/noz199</td>\n",
       "      <td>31637430.0</td>\n",
       "      <td>Retraction</td>\n",
       "      <td>+Error in Analyses;+Error in Methods;+Error in...</td>\n",
       "      <td>No</td>\n",
       "      <td>NaN</td>\n",
       "      <td>0</td>\n",
       "      <td>Abstract\\n        \\n      \\n\\n\\n\\n          Ba...</td>\n",
       "    </tr>\n",
       "    <tr>\n",
       "      <th>2</th>\n",
       "      <td>2</td>\n",
       "      <td>42459</td>\n",
       "      <td>Vaginal misoprostol before copper IUD insertio...</td>\n",
       "      <td>(HSC) Medicine - Obstetrics/Gynecology;(HSC) M...</td>\n",
       "      <td>Department of Obstetrics and Gynaecology, Facu...</td>\n",
       "      <td>European Journal of Contraception &amp; Reproducti...</td>\n",
       "      <td>Taylor and Francis</td>\n",
       "      <td>Egypt</td>\n",
       "      <td>Radwa Rasheedy;Tarek Fathi Tamara;Ihab Serag A...</td>\n",
       "      <td>NaN</td>\n",
       "      <td>...</td>\n",
       "      <td>36744398</td>\n",
       "      <td>2019-05-21</td>\n",
       "      <td>10.1080/13625187.2019.1610871</td>\n",
       "      <td>31112079.0</td>\n",
       "      <td>Retraction</td>\n",
       "      <td>+Concerns/Issues About Data;+Concerns/Issues A...</td>\n",
       "      <td>No</td>\n",
       "      <td>NaN</td>\n",
       "      <td>0</td>\n",
       "      <td>Abstract\\n        \\n      \\n\\n\\nObjective: The...</td>\n",
       "    </tr>\n",
       "  </tbody>\n",
       "</table>\n",
       "<p>3 rows × 23 columns</p>\n",
       "</div>"
      ],
      "text/plain": [
       "   Unnamed: 0  Record ID                                              Title  \\\n",
       "0           0      41915  A novel fully automated MRI-based deep-learnin...   \n",
       "1           1      41914  A novel fully automated MRI-based deep-learnin...   \n",
       "2           2      42459  Vaginal misoprostol before copper IUD insertio...   \n",
       "\n",
       "                                             Subject  \\\n",
       "0  (B/T) Computer Science;(BLS) Biology - Cancer;...   \n",
       "1  (B/T) Computer Science;(BLS) Biology - Cancer;...   \n",
       "2  (HSC) Medicine - Obstetrics/Gynecology;(HSC) M...   \n",
       "\n",
       "                                         Institution  \\\n",
       "0  Department of Radiology, Mayo Clinic, Rocheste...   \n",
       "1  Department of Radiology, University of Texas S...   \n",
       "2  Department of Obstetrics and Gynaecology, Facu...   \n",
       "\n",
       "                                             Journal           Publisher  \\\n",
       "0                                     Neuro-Oncology     Oxford Academic   \n",
       "1                                     Neuro-Oncology     Oxford Academic   \n",
       "2  European Journal of Contraception & Reproducti...  Taylor and Francis   \n",
       "\n",
       "         Country                                             Author URLS  ...  \\\n",
       "0  United States              Timothy J Kaufmann;Bradley J Erickson  NaN  ...   \n",
       "1  United States  Chandan Ganesh Bangalore Yogananda;Bhavya R Sh...  NaN  ...   \n",
       "2          Egypt  Radwa Rasheedy;Tarek Fathi Tamara;Ihab Serag A...  NaN  ...   \n",
       "\n",
       "  RetractionPubMedID OriginalPaperDate               OriginalPaperDOI  \\\n",
       "0           36623552        2020-01-06         10.1093/neuonc/noaa002   \n",
       "1           36623552        2019-10-22          10.1093/neuonc/noz199   \n",
       "2           36744398        2019-05-21  10.1080/13625187.2019.1610871   \n",
       "\n",
       "  OriginalPaperPubMedID RetractionNature  \\\n",
       "0            31905237.0       Retraction   \n",
       "1            31637430.0       Retraction   \n",
       "2            31112079.0       Retraction   \n",
       "\n",
       "                                              Reason  Paywalled Notes Error  \\\n",
       "0                             +Cites Retracted Work;         No   NaN     0   \n",
       "1  +Error in Analyses;+Error in Methods;+Error in...         No   NaN     0   \n",
       "2  +Concerns/Issues About Data;+Concerns/Issues A...         No   NaN     0   \n",
       "\n",
       "                                            Abstract  \n",
       "0                              No abstract available  \n",
       "1  Abstract\\n        \\n      \\n\\n\\n\\n          Ba...  \n",
       "2  Abstract\\n        \\n      \\n\\n\\nObjective: The...  \n",
       "\n",
       "[3 rows x 23 columns]"
      ]
     },
     "execution_count": 3,
     "metadata": {},
     "output_type": "execute_result"
    }
   ],
   "source": [
    "dataframe.head(3)"
   ]
  },
  {
   "cell_type": "code",
   "execution_count": 4,
   "id": "8b2042fb-65de-4ab2-9ba2-694b945718b0",
   "metadata": {},
   "outputs": [
    {
     "data": {
      "text/plain": [
       "array([0, 1, 2], dtype=int64)"
      ]
     },
     "execution_count": 4,
     "metadata": {},
     "output_type": "execute_result"
    }
   ],
   "source": [
    "error_targets = dataframe['Error']\n",
    "np.unique(error_targets)"
   ]
  },
  {
   "cell_type": "code",
   "execution_count": 5,
   "id": "eda61fff-c7c4-4a3f-8bb9-f9be9e123859",
   "metadata": {
    "scrolled": true
   },
   "outputs": [
    {
     "name": "stdout",
     "output_type": "stream",
     "text": [
      "before removing the NaN valued(in abstract) rows: \n",
      "Error\n",
      "1    11472\n",
      "0     7822\n",
      "2      670\n",
      "Name: count, dtype: int64\n"
     ]
    }
   ],
   "source": [
    "# Count the number of examples in each category \n",
    "n_example_per_category = dataframe['Error'].value_counts()\n",
    "\n",
    "# Printing the number of examples in each category\n",
    "print('before removing the NaN valued(in abstract) rows: ')\n",
    "print(n_example_per_category)\n",
    "\n",
    "#after dropping the nan values.\n",
    "dataframe = dataframe.dropna(subset=['Abstract'])"
   ]
  },
  {
   "cell_type": "code",
   "execution_count": 6,
   "id": "1cc01544-c635-4e95-9faa-82507161d27e",
   "metadata": {},
   "outputs": [
    {
     "name": "stdout",
     "output_type": "stream",
     "text": [
      "After removal :\n"
     ]
    },
    {
     "data": {
      "text/plain": [
       "Error\n",
       "1    9648\n",
       "0    4536\n",
       "2     570\n",
       "Name: count, dtype: int64"
      ]
     },
     "execution_count": 6,
     "metadata": {},
     "output_type": "execute_result"
    }
   ],
   "source": [
    "print('After removal :')\n",
    "dataframe['Error'].value_counts()"
   ]
  },
  {
   "cell_type": "code",
   "execution_count": 7,
   "id": "145aa64a-d301-4006-8919-0ecc62848569",
   "metadata": {},
   "outputs": [
    {
     "data": {
      "text/plain": [
       "((14754, 1),\n",
       " Index(['Abstract'], dtype='object'),\n",
       " (14754, 1),\n",
       " Index(['Error'], dtype='object'))"
      ]
     },
     "execution_count": 7,
     "metadata": {},
     "output_type": "execute_result"
    }
   ],
   "source": [
    "Xd = dataframe.iloc[:, range(22,23)]\n",
    "X_names = Xd.columns\n",
    "X = Xd.values\n",
    "\n",
    "Td = dataframe.iloc[:, range(21,22)]\n",
    "T_names = Td.columns\n",
    "T = Td.values\n",
    "\n",
    "X.shape, X_names, T.shape, T_names\n"
   ]
  },
  {
   "cell_type": "code",
   "execution_count": 8,
   "id": "efea80ff-b5df-4127-9903-1a646f9ed8ae",
   "metadata": {},
   "outputs": [
    {
     "data": {
      "text/plain": [
       "((14184, 1),\n",
       " Index(['Abstract'], dtype='object'),\n",
       " (14184, 1),\n",
       " Index(['Error'], dtype='object'))"
      ]
     },
     "execution_count": 8,
     "metadata": {},
     "output_type": "execute_result"
    }
   ],
   "source": [
    "#I am ignoring the rows with no clear determination - error class 2\n",
    "rows_to_delete = np.where(T == 2)[0]\n",
    "X = np.delete(X, rows_to_delete, axis=0)\n",
    "T = np.delete(T, rows_to_delete, axis=0)\n",
    "\n",
    "X.shape, X_names, T.shape, T_names"
   ]
  },
  {
   "cell_type": "code",
   "execution_count": 9,
   "id": "1391e772-3065-4ab9-9ce8-60a53e353e63",
   "metadata": {},
   "outputs": [
    {
     "data": {
      "text/plain": [
       "((13283, 1),\n",
       " Index(['Abstract'], dtype='object'),\n",
       " (13283, 1),\n",
       " Index(['Error'], dtype='object'))"
      ]
     },
     "execution_count": 9,
     "metadata": {},
     "output_type": "execute_result"
    }
   ],
   "source": [
    "#labels are created based on reasons for retraction. However, abstracts are not available for some papers.\n",
    "rows_to_delete = np.where(X == 'No abstract available')[0]\n",
    "X = np.delete(X, rows_to_delete, axis=0)\n",
    "T = np.delete(T, rows_to_delete, axis=0)\n",
    "\n",
    "X.shape, X_names, T.shape, T_names"
   ]
  },
  {
   "cell_type": "code",
   "execution_count": 10,
   "id": "f79244b6-9495-4ff0-9716-9d07acc2b98a",
   "metadata": {},
   "outputs": [],
   "source": [
    "from transformers import AutoTokenizer, BigBirdModel\n",
    "\n",
    "tokenizer = AutoTokenizer.from_pretrained(\"google/bigbird-roberta-base\")\n",
    "model = BigBirdModel.from_pretrained(\"google/bigbird-roberta-base\")"
   ]
  },
  {
   "cell_type": "code",
   "execution_count": 11,
   "id": "f425c963-f5bd-491b-b625-d19f4e0b6e57",
   "metadata": {
    "scrolled": true
   },
   "outputs": [
    {
     "name": "stderr",
     "output_type": "stream",
     "text": [
      "Token indices sequence length is longer than the specified maximum sequence length for this model (4988 > 4096). Running this sequence through the model will result in indexing errors\n"
     ]
    }
   ],
   "source": [
    "X = X.flatten()\n",
    "tokenized = []\n",
    "for abstract in X:\n",
    "        tokenized.append(tokenizer.encode(abstract, add_special_tokens=True))"
   ]
  },
  {
   "cell_type": "code",
   "execution_count": 12,
   "id": "74a5d7af-2d4a-4454-a737-dee0f94e628a",
   "metadata": {},
   "outputs": [
    {
     "name": "stdout",
     "output_type": "stream",
     "text": [
      "4988\n",
      "7587\n",
      "6880\n",
      "5087\n",
      "[5791, 5907, 5910, 8110]\n"
     ]
    }
   ],
   "source": [
    "long_indices = []\n",
    "for i in range(len(tokenized)):\n",
    "    if len(tokenized[i]) > 4096:\n",
    "        print(len(tokenized[i]))\n",
    "        long_indices.append(i)\n",
    "\n",
    "print(long_indices)"
   ]
  },
  {
   "cell_type": "code",
   "execution_count": 13,
   "id": "7f991275-df96-44a2-b11e-59b00a9824e7",
   "metadata": {},
   "outputs": [],
   "source": [
    "for i in range(len(long_indices)):\n",
    "    tokenized.pop(long_indices[i]-i)"
   ]
  },
  {
   "cell_type": "code",
   "execution_count": 14,
   "id": "0c146a12-29dc-444d-ac54-c2fe75dfc36a",
   "metadata": {},
   "outputs": [],
   "source": [
    "# llong_indices = []\n",
    "# for i in range(len(tokenized)):\n",
    "#     if len(tokenized[i]) > 4096:\n",
    "#         print(len(tokenized[i]))\n",
    "#         llong_indices.append(i)\n",
    "\n",
    "# print(llong_indices)"
   ]
  },
  {
   "cell_type": "code",
   "execution_count": 15,
   "id": "dc1b4545-6023-48c3-a301-c99132de39dd",
   "metadata": {},
   "outputs": [
    {
     "name": "stdout",
     "output_type": "stream",
     "text": [
      "13279 13279\n"
     ]
    }
   ],
   "source": [
    "T = np.delete(T, long_indices, axis = 0)\n",
    "\n",
    "print(len(tokenized), T.shape[0])"
   ]
  },
  {
   "cell_type": "code",
   "execution_count": 12,
   "id": "2cd9246f-cc08-4192-b7a6-72e1dfa38737",
   "metadata": {},
   "outputs": [
    {
     "data": {
      "text/plain": [
       "(9135,)"
      ]
     },
     "execution_count": 12,
     "metadata": {},
     "output_type": "execute_result"
    }
   ],
   "source": [
    "# fraud - 1, author error - 0\n",
    "sss = np.nonzero(T)\n",
    "sss[0].shape"
   ]
  },
  {
   "cell_type": "code",
   "execution_count": 16,
   "id": "7b352dde-5a1a-4ff5-a5c5-e60c9cb5a450",
   "metadata": {},
   "outputs": [
    {
     "name": "stdout",
     "output_type": "stream",
     "text": [
      "3532\n"
     ]
    }
   ],
   "source": [
    "max_len = 0\n",
    "for i in tokenized:\n",
    "    if len(i) > max_len:\n",
    "        max_len = len(i)\n",
    "        \n",
    "print(max_len)\n",
    "padded = np.array([i + [0]*(max_len-len(i)) for i in tokenized])"
   ]
  },
  {
   "cell_type": "code",
   "execution_count": 17,
   "id": "9c12cc87-906f-40ad-b74c-36f106a66af0",
   "metadata": {},
   "outputs": [
    {
     "data": {
      "text/plain": [
       "(13279, 3532)"
      ]
     },
     "execution_count": 17,
     "metadata": {},
     "output_type": "execute_result"
    }
   ],
   "source": [
    "padded.shape"
   ]
  },
  {
   "cell_type": "code",
   "execution_count": 18,
   "id": "5d3d6d64-eb01-423b-8bec-64c415d69258",
   "metadata": {},
   "outputs": [
    {
     "data": {
      "text/plain": [
       "(13279, 3532)"
      ]
     },
     "execution_count": 18,
     "metadata": {},
     "output_type": "execute_result"
    }
   ],
   "source": [
    "attention_mask = np.where(padded != 0, 1, 0)\n",
    "attention_mask.shape"
   ]
  },
  {
   "cell_type": "code",
   "execution_count": 19,
   "id": "4a1fa595-7e7a-495f-81d4-17bc09824bea",
   "metadata": {},
   "outputs": [],
   "source": [
    "input_ids = torch.tensor(padded)  \n",
    "attention_masks = torch.tensor(attention_mask)"
   ]
  },
  {
   "cell_type": "code",
   "execution_count": 20,
   "id": "acb67f1d-1d1e-48f2-9c09-757a597b5cbd",
   "metadata": {},
   "outputs": [],
   "source": [
    "last_hidden_states = []\n",
    "with torch.no_grad():\n",
    "        last_hidden_states.append(model(input_ids[0:5],attention_mask = attention_masks[0:5]))"
   ]
  },
  {
   "cell_type": "code",
   "execution_count": 21,
   "id": "8013a5d8-07ec-4569-b718-93fa00e43f4a",
   "metadata": {},
   "outputs": [
    {
     "data": {
      "text/plain": [
       "(5, 768)"
      ]
     },
     "execution_count": 21,
     "metadata": {},
     "output_type": "execute_result"
    }
   ],
   "source": [
    "features = last_hidden_states[0][0][:,0,:].numpy()\n",
    "features.shape"
   ]
  },
  {
   "cell_type": "code",
   "execution_count": 25,
   "id": "6cad09bf-ff3b-4633-aaea-4c19027fed6a",
   "metadata": {},
   "outputs": [
    {
     "name": "stdout",
     "output_type": "stream",
     "text": [
      "5\n",
      "105\n",
      "205\n",
      "305\n",
      "405\n",
      "505\n",
      "605\n",
      "705\n",
      "805\n",
      "905\n",
      "1005\n",
      "1105\n",
      "1205\n",
      "1305\n",
      "1405\n",
      "1505\n",
      "1605\n",
      "1705\n",
      "1805\n",
      "1905\n",
      "2005\n",
      "2105\n",
      "2205\n",
      "2305\n",
      "2405\n",
      "2505\n",
      "2605\n",
      "2705\n",
      "2805\n",
      "2905\n",
      "3005\n",
      "3105\n",
      "3205\n",
      "3305\n",
      "3405\n",
      "3505\n",
      "3605\n",
      "3705\n",
      "3805\n",
      "3905\n",
      "4005\n",
      "4105\n",
      "4205\n",
      "4305\n",
      "4405\n",
      "4505\n",
      "4605\n",
      "4705\n",
      "4805\n",
      "4905\n",
      "5005\n",
      "5105\n",
      "5205\n",
      "5305\n",
      "5405\n",
      "5505\n",
      "5605\n",
      "5705\n",
      "5805\n",
      "5905\n",
      "6005\n",
      "6105\n",
      "6205\n",
      "6305\n",
      "6405\n",
      "6505\n",
      "6605\n",
      "6705\n",
      "6805\n",
      "6905\n",
      "7005\n",
      "7105\n",
      "7205\n",
      "7305\n",
      "7405\n",
      "7505\n",
      "7605\n",
      "7705\n",
      "7805\n",
      "7905\n",
      "8005\n",
      "8105\n",
      "8205\n",
      "8305\n",
      "8405\n",
      "8505\n",
      "8605\n",
      "8705\n",
      "8805\n",
      "8905\n",
      "9005\n",
      "9105\n",
      "9205\n",
      "9305\n",
      "9405\n",
      "9505\n",
      "9605\n",
      "9705\n",
      "9805\n",
      "9905\n",
      "10005\n",
      "10105\n",
      "10205\n",
      "10305\n",
      "10405\n",
      "10505\n",
      "10605\n",
      "10705\n",
      "10805\n",
      "10905\n",
      "11005\n",
      "11105\n",
      "11205\n",
      "11305\n",
      "11405\n",
      "11505\n",
      "11605\n",
      "11705\n",
      "11805\n",
      "11905\n",
      "12005\n",
      "12105\n",
      "12205\n",
      "12305\n",
      "12405\n",
      "12505\n",
      "12605\n",
      "12705\n",
      "12805\n",
      "12905\n",
      "13005\n",
      "13105\n",
      "13205\n"
     ]
    }
   ],
   "source": [
    "for i in range(5, len(input_ids), 5):\n",
    "    last_hidden_states = []\n",
    "    if (i%100 == 5):\n",
    "        print(i)\n",
    "    with torch.no_grad():\n",
    "        last_hidden_states.append(model(input_ids[i:i+5],attention_mask = attention_masks[i:i+5]))\n",
    "    features = np.vstack((features, last_hidden_states[0][0][:,0,:].numpy()))"
   ]
  },
  {
   "cell_type": "code",
   "execution_count": 26,
   "id": "c1e404d4-4b3c-406d-9406-a2c5aecd3bff",
   "metadata": {},
   "outputs": [
    {
     "data": {
      "text/plain": [
       "(13279, 768)"
      ]
     },
     "execution_count": 26,
     "metadata": {},
     "output_type": "execute_result"
    }
   ],
   "source": [
    "features.shape"
   ]
  },
  {
   "cell_type": "code",
   "execution_count": 13,
   "id": "23ab92af-869c-414d-b245-2e8389e1bea3",
   "metadata": {},
   "outputs": [],
   "source": [
    "from sklearn.model_selection import train_test_split\n",
    "from sklearn.linear_model import LogisticRegression\n",
    "from sklearn.model_selection import cross_val_score\n",
    "from sklearn.metrics import f1_score"
   ]
  },
  {
   "cell_type": "code",
   "execution_count": 108,
   "id": "2ac7325a-9689-48a2-bfd2-c33fbfa139b8",
   "metadata": {},
   "outputs": [
    {
     "data": {
      "text/plain": [
       "((9959, 768), (3320, 768), (9959, 1), (3320, 1))"
      ]
     },
     "execution_count": 108,
     "metadata": {},
     "output_type": "execute_result"
    }
   ],
   "source": [
    "train_features, test_features, train_labels, test_labels = train_test_split(features, T)\n",
    "train_features.shape, test_features.shape, train_labels.shape, test_labels.shape"
   ]
  },
  {
   "cell_type": "code",
   "execution_count": 88,
   "id": "06ceba56-d552-4b10-88f0-555d0f0b2ca7",
   "metadata": {},
   "outputs": [
    {
     "data": {
      "text/html": [
       "<style>#sk-container-id-2 {color: black;}#sk-container-id-2 pre{padding: 0;}#sk-container-id-2 div.sk-toggleable {background-color: white;}#sk-container-id-2 label.sk-toggleable__label {cursor: pointer;display: block;width: 100%;margin-bottom: 0;padding: 0.3em;box-sizing: border-box;text-align: center;}#sk-container-id-2 label.sk-toggleable__label-arrow:before {content: \"▸\";float: left;margin-right: 0.25em;color: #696969;}#sk-container-id-2 label.sk-toggleable__label-arrow:hover:before {color: black;}#sk-container-id-2 div.sk-estimator:hover label.sk-toggleable__label-arrow:before {color: black;}#sk-container-id-2 div.sk-toggleable__content {max-height: 0;max-width: 0;overflow: hidden;text-align: left;background-color: #f0f8ff;}#sk-container-id-2 div.sk-toggleable__content pre {margin: 0.2em;color: black;border-radius: 0.25em;background-color: #f0f8ff;}#sk-container-id-2 input.sk-toggleable__control:checked~div.sk-toggleable__content {max-height: 200px;max-width: 100%;overflow: auto;}#sk-container-id-2 input.sk-toggleable__control:checked~label.sk-toggleable__label-arrow:before {content: \"▾\";}#sk-container-id-2 div.sk-estimator input.sk-toggleable__control:checked~label.sk-toggleable__label {background-color: #d4ebff;}#sk-container-id-2 div.sk-label input.sk-toggleable__control:checked~label.sk-toggleable__label {background-color: #d4ebff;}#sk-container-id-2 input.sk-hidden--visually {border: 0;clip: rect(1px 1px 1px 1px);clip: rect(1px, 1px, 1px, 1px);height: 1px;margin: -1px;overflow: hidden;padding: 0;position: absolute;width: 1px;}#sk-container-id-2 div.sk-estimator {font-family: monospace;background-color: #f0f8ff;border: 1px dotted black;border-radius: 0.25em;box-sizing: border-box;margin-bottom: 0.5em;}#sk-container-id-2 div.sk-estimator:hover {background-color: #d4ebff;}#sk-container-id-2 div.sk-parallel-item::after {content: \"\";width: 100%;border-bottom: 1px solid gray;flex-grow: 1;}#sk-container-id-2 div.sk-label:hover label.sk-toggleable__label {background-color: #d4ebff;}#sk-container-id-2 div.sk-serial::before {content: \"\";position: absolute;border-left: 1px solid gray;box-sizing: border-box;top: 0;bottom: 0;left: 50%;z-index: 0;}#sk-container-id-2 div.sk-serial {display: flex;flex-direction: column;align-items: center;background-color: white;padding-right: 0.2em;padding-left: 0.2em;position: relative;}#sk-container-id-2 div.sk-item {position: relative;z-index: 1;}#sk-container-id-2 div.sk-parallel {display: flex;align-items: stretch;justify-content: center;background-color: white;position: relative;}#sk-container-id-2 div.sk-item::before, #sk-container-id-2 div.sk-parallel-item::before {content: \"\";position: absolute;border-left: 1px solid gray;box-sizing: border-box;top: 0;bottom: 0;left: 50%;z-index: -1;}#sk-container-id-2 div.sk-parallel-item {display: flex;flex-direction: column;z-index: 1;position: relative;background-color: white;}#sk-container-id-2 div.sk-parallel-item:first-child::after {align-self: flex-end;width: 50%;}#sk-container-id-2 div.sk-parallel-item:last-child::after {align-self: flex-start;width: 50%;}#sk-container-id-2 div.sk-parallel-item:only-child::after {width: 0;}#sk-container-id-2 div.sk-dashed-wrapped {border: 1px dashed gray;margin: 0 0.4em 0.5em 0.4em;box-sizing: border-box;padding-bottom: 0.4em;background-color: white;}#sk-container-id-2 div.sk-label label {font-family: monospace;font-weight: bold;display: inline-block;line-height: 1.2em;}#sk-container-id-2 div.sk-label-container {text-align: center;}#sk-container-id-2 div.sk-container {/* jupyter's `normalize.less` sets `[hidden] { display: none; }` but bootstrap.min.css set `[hidden] { display: none !important; }` so we also need the `!important` here to be able to override the default hidden behavior on the sphinx rendered scikit-learn.org. See: https://github.com/scikit-learn/scikit-learn/issues/21755 */display: inline-block !important;position: relative;}#sk-container-id-2 div.sk-text-repr-fallback {display: none;}</style><div id=\"sk-container-id-2\" class=\"sk-top-container\"><div class=\"sk-text-repr-fallback\"><pre>LogisticRegression()</pre><b>In a Jupyter environment, please rerun this cell to show the HTML representation or trust the notebook. <br />On GitHub, the HTML representation is unable to render, please try loading this page with nbviewer.org.</b></div><div class=\"sk-container\" hidden><div class=\"sk-item\"><div class=\"sk-estimator sk-toggleable\"><input class=\"sk-toggleable__control sk-hidden--visually\" id=\"sk-estimator-id-2\" type=\"checkbox\" checked><label for=\"sk-estimator-id-2\" class=\"sk-toggleable__label sk-toggleable__label-arrow\">LogisticRegression</label><div class=\"sk-toggleable__content\"><pre>LogisticRegression()</pre></div></div></div></div></div>"
      ],
      "text/plain": [
       "LogisticRegression()"
      ]
     },
     "execution_count": 88,
     "metadata": {},
     "output_type": "execute_result"
    }
   ],
   "source": [
    "lr_clf = LogisticRegression()\n",
    "lr_clf.fit(train_features, train_labels)"
   ]
  },
  {
   "cell_type": "code",
   "execution_count": 89,
   "id": "00092eb9-9ce1-4dab-ac56-9b8e3ffa7e8d",
   "metadata": {},
   "outputs": [
    {
     "data": {
      "text/plain": [
       "0.7337349397590361"
      ]
     },
     "execution_count": 89,
     "metadata": {},
     "output_type": "execute_result"
    }
   ],
   "source": [
    "lr_clf.score(test_features, test_labels)"
   ]
  },
  {
   "cell_type": "code",
   "execution_count": 111,
   "id": "490732c9-3dab-451d-a63d-579a6c39b269",
   "metadata": {
    "scrolled": true
   },
   "outputs": [
    {
     "name": "stdout",
     "output_type": "stream",
     "text": [
      "Precision: [0.76827976 0.69734151]\n",
      "Recall: [0.93628928 0.34202608]\n",
      "F1-score: [0.84400466 0.4589502 ]\n"
     ]
    }
   ],
   "source": [
    "# precision, recall, and F1-score\n",
    "predicted_labels = lr_clf.predict(test_features)\n",
    "precision, recall, f1_score, support = precision_recall_fscore_support(test_labels, predicted_labels,labels=[1, 0])\n",
    "\n",
    "print(\"Precision:\", precision)\n",
    "print(\"Recall:\", recall)\n",
    "print(\"F1-score:\", f1_score)"
   ]
  },
  {
   "cell_type": "code",
   "execution_count": 91,
   "id": "7aa52c95-9293-4e2a-b78e-22ada29f9e8a",
   "metadata": {},
   "outputs": [
    {
     "name": "stdout",
     "output_type": "stream",
     "text": [
      "0.618620104623215\n"
     ]
    }
   ],
   "source": [
    "predicted_labels = lr_clf.predict(test_features)\n",
    "f1 = f1_score(test_labels, predicted_labels, average='macro')\n",
    "print(f1)"
   ]
  },
  {
   "cell_type": "code",
   "execution_count": 92,
   "id": "00e37893-6aa0-40ca-8ad9-571626c98e27",
   "metadata": {},
   "outputs": [],
   "source": [
    "nnet = torch.nn.Sequential(torch.nn.Linear(768,20),\n",
    "                           torch.nn.Tanh(),\n",
    "                           torch.nn.Linear(20, 10),\n",
    "                           torch.nn.Tanh(),\n",
    "                           torch.nn.Linear(10, 2)\n",
    "                          )"
   ]
  },
  {
   "cell_type": "code",
   "execution_count": 49,
   "id": "3324293a-4c0b-449d-9510-b3c14b91846f",
   "metadata": {},
   "outputs": [],
   "source": [
    "new_x_train = torch.from_numpy(train_features)\n",
    "new_t_train = torch.from_numpy(train_labels.flatten())\n",
    "new_x_test = torch.from_numpy(test_features)\n",
    "new_t_test = torch.from_numpy(test_labels.flatten())"
   ]
  },
  {
   "cell_type": "code",
   "execution_count": 61,
   "id": "71662586-2c56-46bf-aac1-94dc54438be3",
   "metadata": {},
   "outputs": [],
   "source": [
    "def percent_correct(Yclasses, T):\n",
    "    return (Yclasses == T).float().mean().item() * 100\n",
    "\n",
    "def use(nnet, X):\n",
    "    Y = nnet(X)\n",
    "    class_index = torch.argmax(Y, dim=1)  # not axis=1 as we did in numpy!\n",
    "    return class_index\n",
    "\n",
    "def train(nnet, X, T, n_epochs, learning_rate):\n",
    "    optimizer = torch.optim.Adam(nnet.parameters(), lr=learning_rate)\n",
    "    loss_func = torch.nn.CrossEntropyLoss()\n",
    "\n",
    "    for epoch in range(n_epochs):\n",
    "    \n",
    "        Y = nnet(X)\n",
    "        \n",
    "        loss = loss_func(Y, T)\n",
    "        loss.backward()\n",
    "        \n",
    "        optimizer.step() \n",
    "        optimizer.zero_grad()\n",
    "\n",
    "        pc_train = percent_correct(use(nnet, new_x_train), new_t_train)\n",
    "        pc_test = percent_correct(use(nnet, new_x_test), new_t_test)\n",
    "        \n",
    "    print(f'Epoch {epoch + 1} %correct: Train {pc_train:.1f} Test {pc_test:.1f}')"
   ]
  },
  {
   "cell_type": "code",
   "execution_count": 93,
   "id": "3387d754-c2ec-4637-987d-b7e62d223c59",
   "metadata": {},
   "outputs": [
    {
     "name": "stdout",
     "output_type": "stream",
     "text": [
      "Epoch 500 %correct: Train 79.1 Test 72.2\n"
     ]
    }
   ],
   "source": [
    "train(nnet, new_x_train, new_t_train, 500, 0.001)"
   ]
  },
  {
   "cell_type": "markdown",
   "id": "c94bcb8f-02f8-4933-b4f2-c384a88c128d",
   "metadata": {},
   "source": [
    "# to compare performance with a dummy classifier"
   ]
  },
  {
   "cell_type": "code",
   "execution_count": 104,
   "id": "7652fb54-6c7a-44a8-996c-979251942041",
   "metadata": {},
   "outputs": [
    {
     "data": {
      "text/plain": [
       "0.6927710843373494"
      ]
     },
     "execution_count": 104,
     "metadata": {},
     "output_type": "execute_result"
    }
   ],
   "source": [
    "from sklearn.dummy import DummyClassifier\n",
    "clf = DummyClassifier()\n",
    "\n",
    "clf.fit(train_features, train_labels)\n",
    "clf.score(test_features, test_labels)"
   ]
  },
  {
   "cell_type": "code",
   "execution_count": 112,
   "id": "0af3c781-f089-420e-9949-700bede1e539",
   "metadata": {},
   "outputs": [
    {
     "name": "stdout",
     "output_type": "stream",
     "text": [
      "Precision: [0.6996988 0.       ]\n",
      "Recall: [1. 0.]\n",
      "F1-score: [0.82332093 0.        ]\n"
     ]
    }
   ],
   "source": [
    "# precision, recall, and F1-score\n",
    "predicted_labels = clf.predict(test_features)\n",
    "precision, recall, f1_score, support = precision_recall_fscore_support(test_labels, predicted_labels, labels=[1, 0])\n",
    "\n",
    "print(\"Precision:\", precision)\n",
    "print(\"Recall:\", recall)\n",
    "print(\"F1-score:\", f1_score)"
   ]
  },
  {
   "cell_type": "code",
   "execution_count": 117,
   "id": "b217683b-3aa9-494e-a145-63f34e3fdbad",
   "metadata": {},
   "outputs": [],
   "source": [
    "# from sklearn.metrics import precision_score\n",
    "\n",
    "# precision_ = precision_score(test_labels, predicted_labels)\n",
    "# print(\"Precision:\", precision_)"
   ]
  },
  {
   "cell_type": "code",
   "execution_count": null,
   "id": "0ce2b4d3-ab06-4831-a473-d7b2d368dc32",
   "metadata": {},
   "outputs": [],
   "source": []
  }
 ],
 "metadata": {
  "kernelspec": {
   "display_name": "Python 3 (ipykernel)",
   "language": "python",
   "name": "python3"
  },
  "language_info": {
   "codemirror_mode": {
    "name": "ipython",
    "version": 3
   },
   "file_extension": ".py",
   "mimetype": "text/x-python",
   "name": "python",
   "nbconvert_exporter": "python",
   "pygments_lexer": "ipython3",
   "version": "3.11.5"
  }
 },
 "nbformat": 4,
 "nbformat_minor": 5
}
