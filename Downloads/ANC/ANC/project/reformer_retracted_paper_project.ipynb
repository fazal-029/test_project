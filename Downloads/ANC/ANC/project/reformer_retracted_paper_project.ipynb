{
 "cells": [
  {
   "cell_type": "code",
   "execution_count": 1,
   "id": "c2bf8c95-8b88-467b-9351-8e27d7b11b40",
   "metadata": {},
   "outputs": [],
   "source": [
    "import numpy as np\n",
    "import pandas as pd\n",
    "import matplotlib.pyplot as plt\n",
    "import math\n",
    "import torch\n",
    "import warnings\n",
    "warnings.filterwarnings('ignore')"
   ]
  },
  {
   "cell_type": "code",
   "execution_count": 2,
   "id": "736d5335-02c4-4cd2-af10-4fc8737e6989",
   "metadata": {},
   "outputs": [],
   "source": [
    "dataframe = pd.read_excel('dataset 19964.xlsx')"
   ]
  },
  {
   "cell_type": "code",
   "execution_count": 3,
   "id": "9f4f81e3-1abc-46ea-8e90-e5b93bccb07e",
   "metadata": {},
   "outputs": [
    {
     "data": {
      "text/html": [
       "<div>\n",
       "<style scoped>\n",
       "    .dataframe tbody tr th:only-of-type {\n",
       "        vertical-align: middle;\n",
       "    }\n",
       "\n",
       "    .dataframe tbody tr th {\n",
       "        vertical-align: top;\n",
       "    }\n",
       "\n",
       "    .dataframe thead th {\n",
       "        text-align: right;\n",
       "    }\n",
       "</style>\n",
       "<table border=\"1\" class=\"dataframe\">\n",
       "  <thead>\n",
       "    <tr style=\"text-align: right;\">\n",
       "      <th></th>\n",
       "      <th>Unnamed: 0</th>\n",
       "      <th>Record ID</th>\n",
       "      <th>Title</th>\n",
       "      <th>Subject</th>\n",
       "      <th>Institution</th>\n",
       "      <th>Journal</th>\n",
       "      <th>Publisher</th>\n",
       "      <th>Country</th>\n",
       "      <th>Author</th>\n",
       "      <th>URLS</th>\n",
       "      <th>...</th>\n",
       "      <th>RetractionPubMedID</th>\n",
       "      <th>OriginalPaperDate</th>\n",
       "      <th>OriginalPaperDOI</th>\n",
       "      <th>OriginalPaperPubMedID</th>\n",
       "      <th>RetractionNature</th>\n",
       "      <th>Reason</th>\n",
       "      <th>Paywalled</th>\n",
       "      <th>Notes</th>\n",
       "      <th>Error</th>\n",
       "      <th>Abstract</th>\n",
       "    </tr>\n",
       "  </thead>\n",
       "  <tbody>\n",
       "    <tr>\n",
       "      <th>0</th>\n",
       "      <td>0</td>\n",
       "      <td>41915</td>\n",
       "      <td>A novel fully automated MRI-based deep-learnin...</td>\n",
       "      <td>(B/T) Computer Science;(BLS) Biology - Cancer;...</td>\n",
       "      <td>Department of Radiology, Mayo Clinic, Rocheste...</td>\n",
       "      <td>Neuro-Oncology</td>\n",
       "      <td>Oxford Academic</td>\n",
       "      <td>United States</td>\n",
       "      <td>Timothy J Kaufmann;Bradley J Erickson</td>\n",
       "      <td>NaN</td>\n",
       "      <td>...</td>\n",
       "      <td>36623552</td>\n",
       "      <td>2020-01-06</td>\n",
       "      <td>10.1093/neuonc/noaa002</td>\n",
       "      <td>31905237.0</td>\n",
       "      <td>Retraction</td>\n",
       "      <td>+Cites Retracted Work;</td>\n",
       "      <td>No</td>\n",
       "      <td>NaN</td>\n",
       "      <td>0</td>\n",
       "      <td>No abstract available</td>\n",
       "    </tr>\n",
       "    <tr>\n",
       "      <th>1</th>\n",
       "      <td>1</td>\n",
       "      <td>41914</td>\n",
       "      <td>A novel fully automated MRI-based deep-learnin...</td>\n",
       "      <td>(B/T) Computer Science;(BLS) Biology - Cancer;...</td>\n",
       "      <td>Department of Radiology, University of Texas S...</td>\n",
       "      <td>Neuro-Oncology</td>\n",
       "      <td>Oxford Academic</td>\n",
       "      <td>United States</td>\n",
       "      <td>Chandan Ganesh Bangalore Yogananda;Bhavya R Sh...</td>\n",
       "      <td>NaN</td>\n",
       "      <td>...</td>\n",
       "      <td>36623552</td>\n",
       "      <td>2019-10-22</td>\n",
       "      <td>10.1093/neuonc/noz199</td>\n",
       "      <td>31637430.0</td>\n",
       "      <td>Retraction</td>\n",
       "      <td>+Error in Analyses;+Error in Methods;+Error in...</td>\n",
       "      <td>No</td>\n",
       "      <td>NaN</td>\n",
       "      <td>0</td>\n",
       "      <td>Abstract\\n        \\n      \\n\\n\\n\\n          Ba...</td>\n",
       "    </tr>\n",
       "    <tr>\n",
       "      <th>2</th>\n",
       "      <td>2</td>\n",
       "      <td>42459</td>\n",
       "      <td>Vaginal misoprostol before copper IUD insertio...</td>\n",
       "      <td>(HSC) Medicine - Obstetrics/Gynecology;(HSC) M...</td>\n",
       "      <td>Department of Obstetrics and Gynaecology, Facu...</td>\n",
       "      <td>European Journal of Contraception &amp; Reproducti...</td>\n",
       "      <td>Taylor and Francis</td>\n",
       "      <td>Egypt</td>\n",
       "      <td>Radwa Rasheedy;Tarek Fathi Tamara;Ihab Serag A...</td>\n",
       "      <td>NaN</td>\n",
       "      <td>...</td>\n",
       "      <td>36744398</td>\n",
       "      <td>2019-05-21</td>\n",
       "      <td>10.1080/13625187.2019.1610871</td>\n",
       "      <td>31112079.0</td>\n",
       "      <td>Retraction</td>\n",
       "      <td>+Concerns/Issues About Data;+Concerns/Issues A...</td>\n",
       "      <td>No</td>\n",
       "      <td>NaN</td>\n",
       "      <td>0</td>\n",
       "      <td>Abstract\\n        \\n      \\n\\n\\nObjective: The...</td>\n",
       "    </tr>\n",
       "  </tbody>\n",
       "</table>\n",
       "<p>3 rows × 23 columns</p>\n",
       "</div>"
      ],
      "text/plain": [
       "   Unnamed: 0  Record ID                                              Title  \\\n",
       "0           0      41915  A novel fully automated MRI-based deep-learnin...   \n",
       "1           1      41914  A novel fully automated MRI-based deep-learnin...   \n",
       "2           2      42459  Vaginal misoprostol before copper IUD insertio...   \n",
       "\n",
       "                                             Subject  \\\n",
       "0  (B/T) Computer Science;(BLS) Biology - Cancer;...   \n",
       "1  (B/T) Computer Science;(BLS) Biology - Cancer;...   \n",
       "2  (HSC) Medicine - Obstetrics/Gynecology;(HSC) M...   \n",
       "\n",
       "                                         Institution  \\\n",
       "0  Department of Radiology, Mayo Clinic, Rocheste...   \n",
       "1  Department of Radiology, University of Texas S...   \n",
       "2  Department of Obstetrics and Gynaecology, Facu...   \n",
       "\n",
       "                                             Journal           Publisher  \\\n",
       "0                                     Neuro-Oncology     Oxford Academic   \n",
       "1                                     Neuro-Oncology     Oxford Academic   \n",
       "2  European Journal of Contraception & Reproducti...  Taylor and Francis   \n",
       "\n",
       "         Country                                             Author URLS  ...  \\\n",
       "0  United States              Timothy J Kaufmann;Bradley J Erickson  NaN  ...   \n",
       "1  United States  Chandan Ganesh Bangalore Yogananda;Bhavya R Sh...  NaN  ...   \n",
       "2          Egypt  Radwa Rasheedy;Tarek Fathi Tamara;Ihab Serag A...  NaN  ...   \n",
       "\n",
       "  RetractionPubMedID OriginalPaperDate               OriginalPaperDOI  \\\n",
       "0           36623552        2020-01-06         10.1093/neuonc/noaa002   \n",
       "1           36623552        2019-10-22          10.1093/neuonc/noz199   \n",
       "2           36744398        2019-05-21  10.1080/13625187.2019.1610871   \n",
       "\n",
       "  OriginalPaperPubMedID RetractionNature  \\\n",
       "0            31905237.0       Retraction   \n",
       "1            31637430.0       Retraction   \n",
       "2            31112079.0       Retraction   \n",
       "\n",
       "                                              Reason  Paywalled Notes Error  \\\n",
       "0                             +Cites Retracted Work;         No   NaN     0   \n",
       "1  +Error in Analyses;+Error in Methods;+Error in...         No   NaN     0   \n",
       "2  +Concerns/Issues About Data;+Concerns/Issues A...         No   NaN     0   \n",
       "\n",
       "                                            Abstract  \n",
       "0                              No abstract available  \n",
       "1  Abstract\\n        \\n      \\n\\n\\n\\n          Ba...  \n",
       "2  Abstract\\n        \\n      \\n\\n\\nObjective: The...  \n",
       "\n",
       "[3 rows x 23 columns]"
      ]
     },
     "execution_count": 3,
     "metadata": {},
     "output_type": "execute_result"
    }
   ],
   "source": [
    "dataframe.head(3)"
   ]
  },
  {
   "cell_type": "code",
   "execution_count": 4,
   "id": "8b2042fb-65de-4ab2-9ba2-694b945718b0",
   "metadata": {},
   "outputs": [
    {
     "data": {
      "text/plain": [
       "array([0, 1, 2], dtype=int64)"
      ]
     },
     "execution_count": 4,
     "metadata": {},
     "output_type": "execute_result"
    }
   ],
   "source": [
    "error_targets = dataframe['Error']\n",
    "np.unique(error_targets)"
   ]
  },
  {
   "cell_type": "code",
   "execution_count": 5,
   "id": "eda61fff-c7c4-4a3f-8bb9-f9be9e123859",
   "metadata": {
    "scrolled": true
   },
   "outputs": [
    {
     "name": "stdout",
     "output_type": "stream",
     "text": [
      "before removing the NaN valued(in abstract) rows: \n",
      "Error\n",
      "1    11472\n",
      "0     7822\n",
      "2      670\n",
      "Name: count, dtype: int64\n"
     ]
    }
   ],
   "source": [
    "# Count the number of examples in each category \n",
    "n_example_per_category = dataframe['Error'].value_counts()\n",
    "\n",
    "# Printing the number of examples in each category\n",
    "print('before removing the NaN valued(in abstract) rows: ')\n",
    "print(n_example_per_category)\n",
    "\n",
    "#after dropping the nan values.\n",
    "dataframe = dataframe.dropna(subset=['Abstract'])"
   ]
  },
  {
   "cell_type": "code",
   "execution_count": 6,
   "id": "1cc01544-c635-4e95-9faa-82507161d27e",
   "metadata": {},
   "outputs": [
    {
     "name": "stdout",
     "output_type": "stream",
     "text": [
      "After removal :\n"
     ]
    },
    {
     "data": {
      "text/plain": [
       "Error\n",
       "1    9648\n",
       "0    4536\n",
       "2     570\n",
       "Name: count, dtype: int64"
      ]
     },
     "execution_count": 6,
     "metadata": {},
     "output_type": "execute_result"
    }
   ],
   "source": [
    "print('After removal :')\n",
    "dataframe['Error'].value_counts()"
   ]
  },
  {
   "cell_type": "code",
   "execution_count": 7,
   "id": "145aa64a-d301-4006-8919-0ecc62848569",
   "metadata": {},
   "outputs": [
    {
     "data": {
      "text/plain": [
       "((14754, 1),\n",
       " Index(['Abstract'], dtype='object'),\n",
       " (14754, 1),\n",
       " Index(['Error'], dtype='object'))"
      ]
     },
     "execution_count": 7,
     "metadata": {},
     "output_type": "execute_result"
    }
   ],
   "source": [
    "Xd = dataframe.iloc[:, range(22,23)]\n",
    "X_names = Xd.columns\n",
    "X = Xd.values\n",
    "\n",
    "Td = dataframe.iloc[:, range(21,22)]\n",
    "T_names = Td.columns\n",
    "T = Td.values\n",
    "\n",
    "X.shape, X_names, T.shape, T_names\n"
   ]
  },
  {
   "cell_type": "code",
   "execution_count": 8,
   "id": "efea80ff-b5df-4127-9903-1a646f9ed8ae",
   "metadata": {},
   "outputs": [
    {
     "data": {
      "text/plain": [
       "((14184, 1),\n",
       " Index(['Abstract'], dtype='object'),\n",
       " (14184, 1),\n",
       " Index(['Error'], dtype='object'))"
      ]
     },
     "execution_count": 8,
     "metadata": {},
     "output_type": "execute_result"
    }
   ],
   "source": [
    "#I am ignoring the rows with no clear determination - error class 2\n",
    "rows_to_delete = np.where(T == 2)[0]\n",
    "X = np.delete(X, rows_to_delete, axis=0)\n",
    "T = np.delete(T, rows_to_delete, axis=0)\n",
    "\n",
    "X.shape, X_names, T.shape, T_names"
   ]
  },
  {
   "cell_type": "code",
   "execution_count": 9,
   "id": "1391e772-3065-4ab9-9ce8-60a53e353e63",
   "metadata": {},
   "outputs": [
    {
     "data": {
      "text/plain": [
       "((13283, 1),\n",
       " Index(['Abstract'], dtype='object'),\n",
       " (13283, 1),\n",
       " Index(['Error'], dtype='object'))"
      ]
     },
     "execution_count": 9,
     "metadata": {},
     "output_type": "execute_result"
    }
   ],
   "source": [
    "#labels are created based on reasons for retraction. However, abstracts are not available for some papers.\n",
    "rows_to_delete = np.where(X == 'No abstract available')[0]\n",
    "X = np.delete(X, rows_to_delete, axis=0)\n",
    "T = np.delete(T, rows_to_delete, axis=0)\n",
    "\n",
    "X.shape, X_names, T.shape, T_names"
   ]
  },
  {
   "cell_type": "code",
   "execution_count": 10,
   "id": "f79244b6-9495-4ff0-9716-9d07acc2b98a",
   "metadata": {},
   "outputs": [],
   "source": [
    "from transformers import AutoTokenizer, ReformerModel\n",
    "\n",
    "tokenizer = AutoTokenizer.from_pretrained(\"google/reformer-crime-and-punishment\")\n",
    "model = ReformerModel.from_pretrained(\"google/reformer-crime-and-punishment\")"
   ]
  },
  {
   "cell_type": "code",
   "execution_count": 11,
   "id": "f425c963-f5bd-491b-b625-d19f4e0b6e57",
   "metadata": {},
   "outputs": [],
   "source": [
    "X = X.flatten()\n",
    "tokenized = []\n",
    "for abstract in X:\n",
    "        tokenized.append(tokenizer.encode(abstract, add_special_tokens=True))"
   ]
  },
  {
   "cell_type": "code",
   "execution_count": 12,
   "id": "7b352dde-5a1a-4ff5-a5c5-e60c9cb5a450",
   "metadata": {},
   "outputs": [],
   "source": [
    "max_len = 0\n",
    "for i in tokenized:\n",
    "    if len(i) > max_len:\n",
    "        max_len = len(i)\n",
    "\n",
    "padded = np.array([i + [0]*(max_len-len(i)) for i in tokenized])"
   ]
  },
  {
   "cell_type": "code",
   "execution_count": 13,
   "id": "9c12cc87-906f-40ad-b74c-36f106a66af0",
   "metadata": {},
   "outputs": [
    {
     "data": {
      "text/plain": [
       "(13283, 6500)"
      ]
     },
     "execution_count": 13,
     "metadata": {},
     "output_type": "execute_result"
    }
   ],
   "source": [
    "padded.shape"
   ]
  },
  {
   "cell_type": "code",
   "execution_count": 14,
   "id": "5d3d6d64-eb01-423b-8bec-64c415d69258",
   "metadata": {},
   "outputs": [
    {
     "data": {
      "text/plain": [
       "(13283, 6500)"
      ]
     },
     "execution_count": 14,
     "metadata": {},
     "output_type": "execute_result"
    }
   ],
   "source": [
    "attention_mask = np.where(padded != 0, 1, 0)\n",
    "attention_mask.shape"
   ]
  },
  {
   "cell_type": "code",
   "execution_count": 15,
   "id": "4a1fa595-7e7a-495f-81d4-17bc09824bea",
   "metadata": {},
   "outputs": [],
   "source": [
    "input_ids = torch.tensor(padded)  \n",
    "attention_masks = torch.tensor(attention_mask)"
   ]
  },
  {
   "cell_type": "code",
   "execution_count": 16,
   "id": "acb67f1d-1d1e-48f2-9c09-757a597b5cbd",
   "metadata": {},
   "outputs": [],
   "source": [
    "last_hidden_states = []\n",
    "with torch.no_grad():\n",
    "        last_hidden_states.append(model(input_ids[0:2],attention_mask = attention_masks[0:2]))\n",
    "features = last_hidden_states[0][0][:,0,:].numpy()"
   ]
  },
  {
   "cell_type": "code",
   "execution_count": 17,
   "id": "6cad09bf-ff3b-4633-aaea-4c19027fed6a",
   "metadata": {},
   "outputs": [
    {
     "name": "stdout",
     "output_type": "stream",
     "text": [
      "2\n",
      "502\n",
      "1002\n",
      "1502\n",
      "2002\n",
      "2502\n",
      "3002\n",
      "3502\n",
      "4002\n",
      "4502\n",
      "5002\n",
      "5502\n",
      "6002\n",
      "6502\n",
      "7002\n",
      "7502\n",
      "8002\n",
      "8502\n",
      "9002\n",
      "9502\n",
      "10002\n",
      "10502\n",
      "11002\n",
      "11502\n",
      "12002\n",
      "12502\n",
      "13002\n"
     ]
    }
   ],
   "source": [
    "for i in range(2, len(input_ids),2):\n",
    "    last_hidden_states = []\n",
    "    if (i%500 == 2):\n",
    "        print(i)\n",
    "    with torch.no_grad():\n",
    "        last_hidden_states.append(model(input_ids[i:i+2],attention_mask = attention_masks[i:i+2]))\n",
    "    features = np.vstack((features, last_hidden_states[0][0][:,0,:].numpy()))"
   ]
  },
  {
   "cell_type": "code",
   "execution_count": 18,
   "id": "c1e404d4-4b3c-406d-9406-a2c5aecd3bff",
   "metadata": {},
   "outputs": [
    {
     "data": {
      "text/plain": [
       "(13283, 512)"
      ]
     },
     "execution_count": 18,
     "metadata": {},
     "output_type": "execute_result"
    }
   ],
   "source": [
    "features.shape    "
   ]
  },
  {
   "cell_type": "code",
   "execution_count": 19,
   "id": "23ab92af-869c-414d-b245-2e8389e1bea3",
   "metadata": {},
   "outputs": [],
   "source": [
    "from sklearn.model_selection import train_test_split\n",
    "from sklearn.linear_model import LogisticRegression\n",
    "from sklearn.model_selection import GridSearchCV\n",
    "from sklearn.model_selection import cross_val_score\n",
    "from sklearn.metrics import f1_score"
   ]
  },
  {
   "cell_type": "code",
   "execution_count": 20,
   "id": "2ac7325a-9689-48a2-bfd2-c33fbfa139b8",
   "metadata": {},
   "outputs": [
    {
     "data": {
      "text/plain": [
       "((9962, 512), (3321, 512), (9962, 1), (3321, 1))"
      ]
     },
     "execution_count": 20,
     "metadata": {},
     "output_type": "execute_result"
    }
   ],
   "source": [
    "train_features, test_features, train_labels, test_labels = train_test_split(features, T)\n",
    "train_features.shape, test_features.shape, train_labels.shape, test_labels.shape"
   ]
  },
  {
   "cell_type": "code",
   "execution_count": 21,
   "id": "06ceba56-d552-4b10-88f0-555d0f0b2ca7",
   "metadata": {},
   "outputs": [
    {
     "data": {
      "text/html": [
       "<style>#sk-container-id-1 {color: black;}#sk-container-id-1 pre{padding: 0;}#sk-container-id-1 div.sk-toggleable {background-color: white;}#sk-container-id-1 label.sk-toggleable__label {cursor: pointer;display: block;width: 100%;margin-bottom: 0;padding: 0.3em;box-sizing: border-box;text-align: center;}#sk-container-id-1 label.sk-toggleable__label-arrow:before {content: \"▸\";float: left;margin-right: 0.25em;color: #696969;}#sk-container-id-1 label.sk-toggleable__label-arrow:hover:before {color: black;}#sk-container-id-1 div.sk-estimator:hover label.sk-toggleable__label-arrow:before {color: black;}#sk-container-id-1 div.sk-toggleable__content {max-height: 0;max-width: 0;overflow: hidden;text-align: left;background-color: #f0f8ff;}#sk-container-id-1 div.sk-toggleable__content pre {margin: 0.2em;color: black;border-radius: 0.25em;background-color: #f0f8ff;}#sk-container-id-1 input.sk-toggleable__control:checked~div.sk-toggleable__content {max-height: 200px;max-width: 100%;overflow: auto;}#sk-container-id-1 input.sk-toggleable__control:checked~label.sk-toggleable__label-arrow:before {content: \"▾\";}#sk-container-id-1 div.sk-estimator input.sk-toggleable__control:checked~label.sk-toggleable__label {background-color: #d4ebff;}#sk-container-id-1 div.sk-label input.sk-toggleable__control:checked~label.sk-toggleable__label {background-color: #d4ebff;}#sk-container-id-1 input.sk-hidden--visually {border: 0;clip: rect(1px 1px 1px 1px);clip: rect(1px, 1px, 1px, 1px);height: 1px;margin: -1px;overflow: hidden;padding: 0;position: absolute;width: 1px;}#sk-container-id-1 div.sk-estimator {font-family: monospace;background-color: #f0f8ff;border: 1px dotted black;border-radius: 0.25em;box-sizing: border-box;margin-bottom: 0.5em;}#sk-container-id-1 div.sk-estimator:hover {background-color: #d4ebff;}#sk-container-id-1 div.sk-parallel-item::after {content: \"\";width: 100%;border-bottom: 1px solid gray;flex-grow: 1;}#sk-container-id-1 div.sk-label:hover label.sk-toggleable__label {background-color: #d4ebff;}#sk-container-id-1 div.sk-serial::before {content: \"\";position: absolute;border-left: 1px solid gray;box-sizing: border-box;top: 0;bottom: 0;left: 50%;z-index: 0;}#sk-container-id-1 div.sk-serial {display: flex;flex-direction: column;align-items: center;background-color: white;padding-right: 0.2em;padding-left: 0.2em;position: relative;}#sk-container-id-1 div.sk-item {position: relative;z-index: 1;}#sk-container-id-1 div.sk-parallel {display: flex;align-items: stretch;justify-content: center;background-color: white;position: relative;}#sk-container-id-1 div.sk-item::before, #sk-container-id-1 div.sk-parallel-item::before {content: \"\";position: absolute;border-left: 1px solid gray;box-sizing: border-box;top: 0;bottom: 0;left: 50%;z-index: -1;}#sk-container-id-1 div.sk-parallel-item {display: flex;flex-direction: column;z-index: 1;position: relative;background-color: white;}#sk-container-id-1 div.sk-parallel-item:first-child::after {align-self: flex-end;width: 50%;}#sk-container-id-1 div.sk-parallel-item:last-child::after {align-self: flex-start;width: 50%;}#sk-container-id-1 div.sk-parallel-item:only-child::after {width: 0;}#sk-container-id-1 div.sk-dashed-wrapped {border: 1px dashed gray;margin: 0 0.4em 0.5em 0.4em;box-sizing: border-box;padding-bottom: 0.4em;background-color: white;}#sk-container-id-1 div.sk-label label {font-family: monospace;font-weight: bold;display: inline-block;line-height: 1.2em;}#sk-container-id-1 div.sk-label-container {text-align: center;}#sk-container-id-1 div.sk-container {/* jupyter's `normalize.less` sets `[hidden] { display: none; }` but bootstrap.min.css set `[hidden] { display: none !important; }` so we also need the `!important` here to be able to override the default hidden behavior on the sphinx rendered scikit-learn.org. See: https://github.com/scikit-learn/scikit-learn/issues/21755 */display: inline-block !important;position: relative;}#sk-container-id-1 div.sk-text-repr-fallback {display: none;}</style><div id=\"sk-container-id-1\" class=\"sk-top-container\"><div class=\"sk-text-repr-fallback\"><pre>LogisticRegression()</pre><b>In a Jupyter environment, please rerun this cell to show the HTML representation or trust the notebook. <br />On GitHub, the HTML representation is unable to render, please try loading this page with nbviewer.org.</b></div><div class=\"sk-container\" hidden><div class=\"sk-item\"><div class=\"sk-estimator sk-toggleable\"><input class=\"sk-toggleable__control sk-hidden--visually\" id=\"sk-estimator-id-1\" type=\"checkbox\" checked><label for=\"sk-estimator-id-1\" class=\"sk-toggleable__label sk-toggleable__label-arrow\">LogisticRegression</label><div class=\"sk-toggleable__content\"><pre>LogisticRegression()</pre></div></div></div></div></div>"
      ],
      "text/plain": [
       "LogisticRegression()"
      ]
     },
     "execution_count": 21,
     "metadata": {},
     "output_type": "execute_result"
    }
   ],
   "source": [
    "lr_clf = LogisticRegression()\n",
    "lr_clf.fit(train_features, train_labels)"
   ]
  },
  {
   "cell_type": "code",
   "execution_count": 22,
   "id": "00092eb9-9ce1-4dab-ac56-9b8e3ffa7e8d",
   "metadata": {},
   "outputs": [
    {
     "data": {
      "text/plain": [
       "0.6772056609454984"
      ]
     },
     "execution_count": 22,
     "metadata": {},
     "output_type": "execute_result"
    }
   ],
   "source": [
    "lr_clf.score(test_features, test_labels)"
   ]
  },
  {
   "cell_type": "code",
   "execution_count": 23,
   "id": "7aa52c95-9293-4e2a-b78e-22ada29f9e8a",
   "metadata": {},
   "outputs": [
    {
     "name": "stdout",
     "output_type": "stream",
     "text": [
      "0.40377019748653503\n"
     ]
    }
   ],
   "source": [
    "predicted_labels = lr_clf.predict(test_features)\n",
    "f1 = f1_score(test_labels, predicted_labels, average='macro')\n",
    "print(f1)"
   ]
  },
  {
   "cell_type": "code",
   "execution_count": null,
   "id": "e379a12b-1f36-4ed0-81ce-7bf93c30275c",
   "metadata": {},
   "outputs": [],
   "source": []
  }
 ],
 "metadata": {
  "kernelspec": {
   "display_name": "Python 3 (ipykernel)",
   "language": "python",
   "name": "python3"
  },
  "language_info": {
   "codemirror_mode": {
    "name": "ipython",
    "version": 3
   },
   "file_extension": ".py",
   "mimetype": "text/x-python",
   "name": "python",
   "nbconvert_exporter": "python",
   "pygments_lexer": "ipython3",
   "version": "3.11.5"
  }
 },
 "nbformat": 4,
 "nbformat_minor": 5
}
